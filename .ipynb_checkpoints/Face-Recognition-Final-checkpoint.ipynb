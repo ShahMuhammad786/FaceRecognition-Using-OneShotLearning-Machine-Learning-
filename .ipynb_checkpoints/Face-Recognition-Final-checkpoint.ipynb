{
 "cells": [
  {
   "cell_type": "code",
   "execution_count": 1,
   "metadata": {},
   "outputs": [],
   "source": [
    "# !pip install keras\n",
    "# !pip install tensorflow\n",
    "import cv2\n",
    "from keras.models import Sequential\n",
    "from keras.layers import Conv2D, ZeroPadding2D, Activation, Input, concatenate\n",
    "from keras.models import Model\n",
    "from tensorflow.keras.layers import BatchNormalization\n",
    "from keras.layers.pooling import MaxPooling2D, AveragePooling2D\n",
    "from keras.layers.merge import Concatenate\n",
    "from keras.layers.core import Lambda, Flatten, Dense\n",
    "from keras.initializers import glorot_uniform\n",
    "from tensorflow.keras.layers import Layer, InputSpec\n",
    "from keras import backend as K\n",
    "from keras.models import load_model\n",
    "K.set_image_data_format('channels_first')\n",
    "\n",
    "import pickle\n",
    "import cv2\n",
    "import os.path\n",
    "import os\n",
    "import numpy as np\n",
    "from numpy import genfromtxt\n",
    "import pandas as pd\n",
    "import tensorflow as tf\n",
    "from utils_and_webcam.utility import *\n",
    "from utils_and_webcam.webcam_utility import *"
   ]
  },
  {
   "cell_type": "code",
   "execution_count": 2,
   "metadata": {},
   "outputs": [],
   "source": [
    "# triplet loss function\n",
    "#  y_pred - list containing three objects:\n",
    "#         anchor(None, 128) -- encodings for the anchor images\n",
    "#         positive(None, 128) -- encodings for the positive images\n",
    "#         negative(None, 128) -- encodings for the negative images\n",
    "def triplet_loss(y_true, y_pred, alpha = 0.2):\n",
    "    anchor, positive, negative = y_pred[0], y_pred[1], y_pred[2]\n",
    "    print(\"This is a custom loss function\")\n",
    "    print(\"y_list:\",y_pred)\n",
    "    \n",
    "    # triplet formula components\n",
    "    pos_dist = tf.reduce_sum( tf.square(tf.subtract(y_pred[0], y_pred[1])) )\n",
    "    neg_dist = tf.reduce_sum( tf.square(tf.subtract(y_pred[0], y_pred[2])) )\n",
    "    basic_loss = pos_dist - neg_dist + alpha\n",
    "    \n",
    "    loss = tf.maximum(basic_loss, 0.0)\n",
    "   \n",
    "    return loss"
   ]
  },
  {
   "cell_type": "code",
   "execution_count": 3,
   "metadata": {
    "scrolled": false
   },
   "outputs": [
    {
     "name": "stdout",
     "output_type": "stream",
     "text": [
      "WARNING:tensorflow:No training configuration found in the save file, so the model was *not* compiled. Compile it manually.\n"
     ]
    }
   ],
   "source": [
    "# load the model\n",
    "FRmodel = load_model('models/facenet_keras.h5', custom_objects={'triplet_loss': triplet_loss})\n",
    "FRmodel.compile(loss=triplet_loss)"
   ]
  },
  {
   "cell_type": "code",
   "execution_count": 4,
   "metadata": {},
   "outputs": [],
   "source": [
    "# initialize the user database\n",
    "def ini_user_database():\n",
    "    # check for existing database\n",
    "    if os.path.exists('database/user_dict.pickle'):\n",
    "        with open('database/user_dict.pickle', 'rb') as handle:\n",
    "            user_db = pickle.load(handle)   \n",
    "    else:\n",
    "        # make a new one\n",
    "        # we use a dict for keeping track of mapping of each person with his/her face encoding\n",
    "        user_db = {}\n",
    "        # create the directory for saving the db pickle file\n",
    "        os.makedirs('database')\n",
    "        with open('database/user_dict.pickle', 'wb') as handle:\n",
    "            pickle.dump(user_db, handle, protocol=pickle.HIGHEST_PROTOCOL)   \n",
    "    return user_db"
   ]
  },
  {
   "cell_type": "code",
   "execution_count": 5,
   "metadata": {},
   "outputs": [],
   "source": [
    "# adds a new user face to the database using his/her image stored on disk using the image path\n",
    "def add_user_img_path(user_db, FRmodel, name, img_path):\n",
    "    if name not in user_db: \n",
    "        user_db[name] = img_to_encoding(img_path, FRmodel)\n",
    "        print(\"Encodings:\",user_db[name])\n",
    "        # save the database\n",
    "        with open('database/user_dict.pickle', 'wb') as handle:\n",
    "                pickle.dump(user_db, handle, protocol=pickle.HIGHEST_PROTOCOL)\n",
    "        print('User ' + name + ' added successfully')\n",
    "    else:\n",
    "        print('The name is already registered! Try a different name.........')"
   ]
  },
  {
   "cell_type": "code",
   "execution_count": 6,
   "metadata": {},
   "outputs": [],
   "source": [
    "# adds a new user using image taken from webcam\n",
    "def add_user_webcam(user_db, FRmodel, name):\n",
    "    # we can use the webcam to capture the user image then get it recognized\n",
    "    face_found = detect_face(user_db, FRmodel)\n",
    "\n",
    "    if face_found:\n",
    "        img_loc=\"saved_image/UserGenerated.jpg\"\n",
    "        resize_img(img_loc,(96,96))\n",
    "        \n",
    "        if name not in user_db: \n",
    "            add_user_img_path(user_db, FRmodel, name, \"saved_image/UserGenerated.jpg\")\n",
    "        else:\n",
    "            print('The name is already registered! Try a different name.........')\n",
    "    else:\n",
    "        print('There was no face found in the visible frame. Try again...........')"
   ]
  },
  {
   "cell_type": "code",
   "execution_count": 7,
   "metadata": {},
   "outputs": [],
   "source": [
    "# deletes a registered user from database\n",
    "def delete_user(user_db, name):\n",
    "    popped = user_db.pop(name, None)\n",
    "    \n",
    "    if popped is not None:\n",
    "        print('User ' + name + ' deleted successfully')\n",
    "        # save the database\n",
    "        with open('database/user_dict.pickle', 'wb') as handle:\n",
    "                pickle.dump(user_db, handle, protocol=pickle.HIGHEST_PROTOCOL)\n",
    "    elif popped == None:\n",
    "        print('No such user !!')"
   ]
  },
  {
   "cell_type": "code",
   "execution_count": 8,
   "metadata": {},
   "outputs": [],
   "source": [
    "# we use a dict for keeping track of mapping of each person with his/her face encoding\n",
    "user_db = ini_user_database()"
   ]
  },
  {
   "cell_type": "markdown",
   "metadata": {},
   "source": [
    "# Adding users from local storage"
   ]
  },
  {
   "cell_type": "code",
   "execution_count": 9,
   "metadata": {},
   "outputs": [
    {
     "name": "stdout",
     "output_type": "stream",
     "text": [
      "The name is already registered! Try a different name.........\n",
      "The name is already registered! Try a different name.........\n",
      "The name is already registered! Try a different name.........\n",
      "The name is already registered! Try a different name.........\n",
      "The name is already registered! Try a different name.........\n",
      "The name is already registered! Try a different name.........\n",
      "The name is already registered! Try a different name.........\n",
      "The name is already registered! Try a different name.........\n",
      "The name is already registered! Try a different name.........\n",
      "The name is already registered! Try a different name.........\n"
     ]
    }
   ],
   "source": [
    "# add a user\n",
    "add_user_img_path(user_db, FRmodel, \"Abdul Waheed\", \"images/train_imgs/Abdul Waheed.jpeg\")\n",
    "add_user_img_path(user_db, FRmodel, \"Yamin Jani\", \"images/train_imgs/Yamin.jpeg\")\n",
    "add_user_img_path(user_db, FRmodel, \"Akhlaq\", \"images/train_imgs/Akhlaq.jpeg\")\n",
    "add_user_img_path(user_db, FRmodel, \"Syed Irfan\", \"images/train_imgs/Syed Irfan.jpeg\")\n",
    "add_user_img_path(user_db, FRmodel, \"Sanaullah\", \"images/train_imgs/Sanaullah.jpeg\")\n",
    "add_user_img_path(user_db, FRmodel, \"Raheel\", \"images/train_imgs/Raheel.jpeg\")\n",
    "add_user_img_path(user_db, FRmodel, \"Tanveer\", \"images/train_imgs/Tanveer.jpeg\")\n",
    "add_user_img_path(user_db, FRmodel, \"Hameed\", \"images/train_imgs/Hameed.jpeg\")\n",
    "add_user_img_path(user_db, FRmodel, \"Junaid\", \"images/train_imgs/Junaid.jpeg\")\n",
    "add_user_img_path(user_db, FRmodel, \"Kamil\", \"images/train_imgs/Kamil.jpeg\")"
   ]
  },
  {
   "cell_type": "markdown",
   "metadata": {},
   "source": [
    "# Adding user through webcam"
   ]
  },
  {
   "cell_type": "code",
   "execution_count": 10,
   "metadata": {
    "scrolled": true
   },
   "outputs": [
    {
     "name": "stdout",
     "output_type": "stream",
     "text": [
      "The name is already registered! Try a different name.........\n"
     ]
    }
   ],
   "source": [
    "add_user_webcam(user_db, FRmodel, \"Shah Muhammad\")"
   ]
  },
  {
   "cell_type": "markdown",
   "metadata": {},
   "source": [
    "# Deleting a specific user from database"
   ]
  },
  {
   "cell_type": "code",
   "execution_count": 11,
   "metadata": {},
   "outputs": [
    {
     "name": "stdout",
     "output_type": "stream",
     "text": [
      "No such user !!\n"
     ]
    }
   ],
   "source": [
    "delete_user(user_db, \"Muhammad\")"
   ]
  },
  {
   "cell_type": "code",
   "execution_count": 12,
   "metadata": {},
   "outputs": [],
   "source": [
    "# recognize the input user face encoding by checking for it in the database\n",
    "def find_face(image_path, database, model, threshold = 0.6):\n",
    "    # find the face encodings for the input image\n",
    "    encoding = img_to_encoding(image_path, model)\n",
    "    \n",
    "    min_dist = 99999\n",
    "    # loop over all the recorded encodings in database \n",
    "    for name in database:\n",
    "        # find the similarity between the input encodings and claimed person's encodings using L2 norm\n",
    "        dist = np.linalg.norm(np.subtract(database[name], encoding) )\n",
    "        # check if minimum distance or not\n",
    "        if dist < min_dist:\n",
    "            min_dist = dist\n",
    "            identity = name\n",
    "\n",
    "    #The distance is actually from 0-100, we are providing the threshold, means if the provide threshold = 10, means it \n",
    "    #must have at least 90% of accuracy and then if the distance is greater than 10 means accuracy is less than 90% which is\n",
    "    #not acceptable, so do not recognize it otherwise recognize it\n",
    "    if min_dist > threshold: \n",
    "        print(\"Distance = \", min_dist)\n",
    "        print(\"User not in the database.\")\n",
    "        identity = 'Unknown Person'\n",
    "    else:\n",
    "        print (\"Hi! \" + str(identity) + \", L2 distance: \" + str(min_dist) , \", Threshold: \"+ str(threshold), \", Test Accuracy: \"+ str((100-min_dist)))\n",
    "        \n",
    "    return min_dist, identity"
   ]
  },
  {
   "cell_type": "code",
   "execution_count": 13,
   "metadata": {},
   "outputs": [],
   "source": [
    "# takes an input image from webcam and performs face recognition on it\n",
    "def do_face_recognition_webcam(user_db, FRmodel, threshold = 0.7):\n",
    "    # we can use the webcam to capture the user image then get it recognized\n",
    "    face_found = detect_face(user_db, FRmodel)\n",
    "\n",
    "    if face_found:\n",
    "        # img_loc= location where the temporary webcam images are saved\n",
    "        # resize the image for the model\n",
    "        img_loc=\"saved_image/UserGenerated.jpg\"\n",
    "        resize_img(img_loc,(96,96))\n",
    "        find_face(img_loc, user_db, FRmodel, threshold)\n",
    "    else:\n",
    "        print('There was no face found in the visible frame. Try again...........')"
   ]
  },
  {
   "cell_type": "code",
   "execution_count": 17,
   "metadata": {},
   "outputs": [],
   "source": [
    "def do_face_recognition_from_image(user_db, FRmodel, threshold = 0.7, img_loc = \"saved_image/UserGenerated.jpg\"):\n",
    "    # resize the image\n",
    "    img = cv2.imread(img_loc, 1)\n",
    "    img = cv2.resize(img, (96, 96))\n",
    "    # save the temporary image\n",
    "    cv2.imwrite(\"saved_image/UserGenerated.jpg\", img)\n",
    "\n",
    "    find_face(\"saved_image/UserGenerated.jpg\", user_db, FRmodel, threshold)"
   ]
  },
  {
   "cell_type": "markdown",
   "metadata": {},
   "source": [
    "# Testing model on Webcam"
   ]
  },
  {
   "cell_type": "code",
   "execution_count": 15,
   "metadata": {
    "scrolled": true
   },
   "outputs": [
    {
     "name": "stdout",
     "output_type": "stream",
     "text": [
      "original: (160, 160, 3)\n",
      "WARNING:tensorflow:AutoGraph could not transform <function <lambda> at 0x00000205C899FB88> and will run it as-is.\n",
      "Cause: could not parse the source code of <function <lambda> at 0x00000205C899FB88>: no matching AST found\n",
      "To silence this warning, decorate the function with @tf.autograph.experimental.do_not_convert\n",
      "WARNING: AutoGraph could not transform <function <lambda> at 0x00000205C899FB88> and will run it as-is.\n",
      "Cause: could not parse the source code of <function <lambda> at 0x00000205C899FB88>: no matching AST found\n",
      "To silence this warning, decorate the function with @tf.autograph.experimental.do_not_convert\n",
      "WARNING:tensorflow:AutoGraph could not transform <function <lambda> at 0x00000205C899FDC8> and will run it as-is.\n",
      "Cause: could not parse the source code of <function <lambda> at 0x00000205C899FDC8>: no matching AST found\n",
      "To silence this warning, decorate the function with @tf.autograph.experimental.do_not_convert\n",
      "WARNING: AutoGraph could not transform <function <lambda> at 0x00000205C899FDC8> and will run it as-is.\n",
      "Cause: could not parse the source code of <function <lambda> at 0x00000205C899FDC8>: no matching AST found\n",
      "To silence this warning, decorate the function with @tf.autograph.experimental.do_not_convert\n",
      "WARNING:tensorflow:AutoGraph could not transform <function <lambda> at 0x00000205C899FEE8> and will run it as-is.\n",
      "Cause: could not parse the source code of <function <lambda> at 0x00000205C899FEE8>: no matching AST found\n",
      "To silence this warning, decorate the function with @tf.autograph.experimental.do_not_convert\n",
      "WARNING: AutoGraph could not transform <function <lambda> at 0x00000205C899FEE8> and will run it as-is.\n",
      "Cause: could not parse the source code of <function <lambda> at 0x00000205C899FEE8>: no matching AST found\n",
      "To silence this warning, decorate the function with @tf.autograph.experimental.do_not_convert\n",
      "WARNING:tensorflow:AutoGraph could not transform <function <lambda> at 0x00000205C8A79438> and will run it as-is.\n",
      "Cause: could not parse the source code of <function <lambda> at 0x00000205C8A79438>: no matching AST found\n",
      "To silence this warning, decorate the function with @tf.autograph.experimental.do_not_convert\n",
      "WARNING: AutoGraph could not transform <function <lambda> at 0x00000205C8A79438> and will run it as-is.\n",
      "Cause: could not parse the source code of <function <lambda> at 0x00000205C8A79438>: no matching AST found\n",
      "To silence this warning, decorate the function with @tf.autograph.experimental.do_not_convert\n",
      "WARNING:tensorflow:AutoGraph could not transform <function <lambda> at 0x00000205C8A79558> and will run it as-is.\n",
      "Cause: could not parse the source code of <function <lambda> at 0x00000205C8A79558>: no matching AST found\n",
      "To silence this warning, decorate the function with @tf.autograph.experimental.do_not_convert\n",
      "WARNING: AutoGraph could not transform <function <lambda> at 0x00000205C8A79558> and will run it as-is.\n",
      "Cause: could not parse the source code of <function <lambda> at 0x00000205C8A79558>: no matching AST found\n",
      "To silence this warning, decorate the function with @tf.autograph.experimental.do_not_convert\n",
      "WARNING:tensorflow:AutoGraph could not transform <function <lambda> at 0x00000205C8A79678> and will run it as-is.\n",
      "Cause: could not parse the source code of <function <lambda> at 0x00000205C8A79678>: no matching AST found\n",
      "To silence this warning, decorate the function with @tf.autograph.experimental.do_not_convert\n",
      "WARNING: AutoGraph could not transform <function <lambda> at 0x00000205C8A79678> and will run it as-is.\n",
      "Cause: could not parse the source code of <function <lambda> at 0x00000205C8A79678>: no matching AST found\n",
      "To silence this warning, decorate the function with @tf.autograph.experimental.do_not_convert\n",
      "WARNING:tensorflow:AutoGraph could not transform <function <lambda> at 0x00000205C8A79798> and will run it as-is.\n",
      "Cause: could not parse the source code of <function <lambda> at 0x00000205C8A79798>: no matching AST found\n",
      "To silence this warning, decorate the function with @tf.autograph.experimental.do_not_convert\n",
      "WARNING: AutoGraph could not transform <function <lambda> at 0x00000205C8A79798> and will run it as-is.\n",
      "Cause: could not parse the source code of <function <lambda> at 0x00000205C8A79798>: no matching AST found\n",
      "To silence this warning, decorate the function with @tf.autograph.experimental.do_not_convert\n",
      "WARNING:tensorflow:AutoGraph could not transform <function <lambda> at 0x00000205C89798B8> and will run it as-is.\n",
      "Cause: could not parse the source code of <function <lambda> at 0x00000205C89798B8>: no matching AST found\n",
      "To silence this warning, decorate the function with @tf.autograph.experimental.do_not_convert\n",
      "WARNING: AutoGraph could not transform <function <lambda> at 0x00000205C89798B8> and will run it as-is.\n",
      "Cause: could not parse the source code of <function <lambda> at 0x00000205C89798B8>: no matching AST found\n",
      "To silence this warning, decorate the function with @tf.autograph.experimental.do_not_convert\n",
      "WARNING:tensorflow:AutoGraph could not transform <function <lambda> at 0x00000205C640D318> and will run it as-is.\n",
      "Cause: could not parse the source code of <function <lambda> at 0x00000205C640D318>: no matching AST found\n",
      "To silence this warning, decorate the function with @tf.autograph.experimental.do_not_convert\n",
      "WARNING: AutoGraph could not transform <function <lambda> at 0x00000205C640D318> and will run it as-is.\n",
      "Cause: could not parse the source code of <function <lambda> at 0x00000205C640D318>: no matching AST found\n",
      "To silence this warning, decorate the function with @tf.autograph.experimental.do_not_convert\n",
      "WARNING:tensorflow:AutoGraph could not transform <function <lambda> at 0x00000205C640D798> and will run it as-is.\n",
      "Cause: could not parse the source code of <function <lambda> at 0x00000205C640D798>: no matching AST found\n",
      "To silence this warning, decorate the function with @tf.autograph.experimental.do_not_convert\n",
      "WARNING: AutoGraph could not transform <function <lambda> at 0x00000205C640D798> and will run it as-is.\n",
      "Cause: could not parse the source code of <function <lambda> at 0x00000205C640D798>: no matching AST found\n",
      "To silence this warning, decorate the function with @tf.autograph.experimental.do_not_convert\n",
      "WARNING:tensorflow:AutoGraph could not transform <function <lambda> at 0x00000205C8A79048> and will run it as-is.\n",
      "Cause: could not parse the source code of <function <lambda> at 0x00000205C8A79048>: no matching AST found\n",
      "To silence this warning, decorate the function with @tf.autograph.experimental.do_not_convert\n",
      "WARNING: AutoGraph could not transform <function <lambda> at 0x00000205C8A79048> and will run it as-is.\n",
      "Cause: could not parse the source code of <function <lambda> at 0x00000205C8A79048>: no matching AST found\n",
      "To silence this warning, decorate the function with @tf.autograph.experimental.do_not_convert\n",
      "WARNING:tensorflow:AutoGraph could not transform <function <lambda> at 0x00000205C8A79828> and will run it as-is.\n",
      "Cause: could not parse the source code of <function <lambda> at 0x00000205C8A79828>: no matching AST found\n",
      "To silence this warning, decorate the function with @tf.autograph.experimental.do_not_convert\n",
      "WARNING: AutoGraph could not transform <function <lambda> at 0x00000205C8A79828> and will run it as-is.\n",
      "Cause: could not parse the source code of <function <lambda> at 0x00000205C8A79828>: no matching AST found\n",
      "To silence this warning, decorate the function with @tf.autograph.experimental.do_not_convert\n",
      "WARNING:tensorflow:AutoGraph could not transform <function <lambda> at 0x00000205C8A799D8> and will run it as-is.\n",
      "Cause: could not parse the source code of <function <lambda> at 0x00000205C8A799D8>: no matching AST found\n",
      "To silence this warning, decorate the function with @tf.autograph.experimental.do_not_convert\n",
      "WARNING: AutoGraph could not transform <function <lambda> at 0x00000205C8A799D8> and will run it as-is.\n",
      "Cause: could not parse the source code of <function <lambda> at 0x00000205C8A799D8>: no matching AST found\n",
      "To silence this warning, decorate the function with @tf.autograph.experimental.do_not_convert\n",
      "WARNING:tensorflow:AutoGraph could not transform <function <lambda> at 0x00000205C8A79AF8> and will run it as-is.\n",
      "Cause: could not parse the source code of <function <lambda> at 0x00000205C8A79AF8>: no matching AST found\n",
      "To silence this warning, decorate the function with @tf.autograph.experimental.do_not_convert\n"
     ]
    },
    {
     "name": "stdout",
     "output_type": "stream",
     "text": [
      "WARNING: AutoGraph could not transform <function <lambda> at 0x00000205C8A79AF8> and will run it as-is.\n",
      "Cause: could not parse the source code of <function <lambda> at 0x00000205C8A79AF8>: no matching AST found\n",
      "To silence this warning, decorate the function with @tf.autograph.experimental.do_not_convert\n",
      "WARNING:tensorflow:AutoGraph could not transform <function <lambda> at 0x00000205C8A79C18> and will run it as-is.\n",
      "Cause: could not parse the source code of <function <lambda> at 0x00000205C8A79C18>: no matching AST found\n",
      "To silence this warning, decorate the function with @tf.autograph.experimental.do_not_convert\n",
      "WARNING: AutoGraph could not transform <function <lambda> at 0x00000205C8A79C18> and will run it as-is.\n",
      "Cause: could not parse the source code of <function <lambda> at 0x00000205C8A79C18>: no matching AST found\n",
      "To silence this warning, decorate the function with @tf.autograph.experimental.do_not_convert\n",
      "WARNING:tensorflow:AutoGraph could not transform <function <lambda> at 0x00000205C8A79CA8> and will run it as-is.\n",
      "Cause: could not parse the source code of <function <lambda> at 0x00000205C8A79CA8>: no matching AST found\n",
      "To silence this warning, decorate the function with @tf.autograph.experimental.do_not_convert\n",
      "WARNING: AutoGraph could not transform <function <lambda> at 0x00000205C8A79CA8> and will run it as-is.\n",
      "Cause: could not parse the source code of <function <lambda> at 0x00000205C8A79CA8>: no matching AST found\n",
      "To silence this warning, decorate the function with @tf.autograph.experimental.do_not_convert\n",
      "WARNING:tensorflow:AutoGraph could not transform <function <lambda> at 0x00000205C8A79E58> and will run it as-is.\n",
      "Cause: could not parse the source code of <function <lambda> at 0x00000205C8A79E58>: no matching AST found\n",
      "To silence this warning, decorate the function with @tf.autograph.experimental.do_not_convert\n",
      "WARNING: AutoGraph could not transform <function <lambda> at 0x00000205C8A79E58> and will run it as-is.\n",
      "Cause: could not parse the source code of <function <lambda> at 0x00000205C8A79E58>: no matching AST found\n",
      "To silence this warning, decorate the function with @tf.autograph.experimental.do_not_convert\n",
      "WARNING:tensorflow:AutoGraph could not transform <function <lambda> at 0x00000205C8A79F78> and will run it as-is.\n",
      "Cause: could not parse the source code of <function <lambda> at 0x00000205C8A79F78>: no matching AST found\n",
      "To silence this warning, decorate the function with @tf.autograph.experimental.do_not_convert\n",
      "WARNING: AutoGraph could not transform <function <lambda> at 0x00000205C8A79F78> and will run it as-is.\n",
      "Cause: could not parse the source code of <function <lambda> at 0x00000205C8A79F78>: no matching AST found\n",
      "To silence this warning, decorate the function with @tf.autograph.experimental.do_not_convert\n",
      "WARNING:tensorflow:AutoGraph could not transform <function <lambda> at 0x00000205C8C180D8> and will run it as-is.\n",
      "Cause: could not parse the source code of <function <lambda> at 0x00000205C8C180D8>: no matching AST found\n",
      "To silence this warning, decorate the function with @tf.autograph.experimental.do_not_convert\n",
      "WARNING: AutoGraph could not transform <function <lambda> at 0x00000205C8C180D8> and will run it as-is.\n",
      "Cause: could not parse the source code of <function <lambda> at 0x00000205C8C180D8>: no matching AST found\n",
      "To silence this warning, decorate the function with @tf.autograph.experimental.do_not_convert\n",
      "WARNING:tensorflow:AutoGraph could not transform <function <lambda> at 0x00000205C8C181F8> and will run it as-is.\n",
      "Cause: could not parse the source code of <function <lambda> at 0x00000205C8C181F8>: no matching AST found\n",
      "To silence this warning, decorate the function with @tf.autograph.experimental.do_not_convert\n",
      "WARNING: AutoGraph could not transform <function <lambda> at 0x00000205C8C181F8> and will run it as-is.\n",
      "Cause: could not parse the source code of <function <lambda> at 0x00000205C8C181F8>: no matching AST found\n",
      "To silence this warning, decorate the function with @tf.autograph.experimental.do_not_convert\n",
      "WARNING:tensorflow:AutoGraph could not transform <function <lambda> at 0x00000205C8C18318> and will run it as-is.\n",
      "Cause: could not parse the source code of <function <lambda> at 0x00000205C8C18318>: no matching AST found\n",
      "To silence this warning, decorate the function with @tf.autograph.experimental.do_not_convert\n",
      "WARNING: AutoGraph could not transform <function <lambda> at 0x00000205C8C18318> and will run it as-is.\n",
      "Cause: could not parse the source code of <function <lambda> at 0x00000205C8C18318>: no matching AST found\n",
      "To silence this warning, decorate the function with @tf.autograph.experimental.do_not_convert\n",
      "Hi! Shah Muhammad, L2 distance: 6.736637 , Threshold: 10 , Test Accuracy: 93.26336288452148\n"
     ]
    }
   ],
   "source": [
    "# Using webcam\n",
    "# do_face_recognition_webcam(user_db, FRmodel, 0.7)\n",
    "do_face_recognition_webcam(user_db, FRmodel, 10)"
   ]
  },
  {
   "cell_type": "markdown",
   "metadata": {},
   "source": [
    "# Testing the model on images"
   ]
  },
  {
   "cell_type": "code",
   "execution_count": 16,
   "metadata": {
    "scrolled": true
   },
   "outputs": [
    {
     "data": {
      "image/png": "[encoded data removed]",
      "text/plain": [
       "<Figure size 432x288 with 1 Axes>"
      ]
     },
     "metadata": {
      "needs_background": "light"
     },
     "output_type": "display_data"
    },
    {
     "name": "stdout",
     "output_type": "stream",
     "text": [
      "original: (96, 96, 3)\n",
      "Hi! Yamin Jani, L2 distance: 7.0309963 , Threshold: 10 , Test Accuracy: 92.96900367736816\n"
     ]
    }
   ],
   "source": [
    "import matplotlib.pyplot as plt\n",
    "img_location = \"images/test_imgs/Yamin-Test.jpeg\"\n",
    "plt.imshow(cv2.imread(img_location))\n",
    "plt.show()\n",
    "do_face_recognition_from_image(user_db, FRmodel, threshold = 10, img_loc = img_location)"
   ]
  },
  {
   "cell_type": "markdown",
   "metadata": {},
   "source": [
    "# Thank you"
   ]
  }
 ],
 "metadata": {
  "kernelspec": {
   "display_name": "Python 3 (ipykernel)",
   "language": "python",
   "name": "python3"
  },
  "language_info": {
   "codemirror_mode": {
    "name": "ipython",
    "version": 3
   },
   "file_extension": ".py",
   "mimetype": "text/x-python",
   "name": "python",
   "nbconvert_exporter": "python",
   "pygments_lexer": "ipython3",
   "version": "3.7.13"
  }
 },
 "nbformat": 4,
 "nbformat_minor": 4
}
